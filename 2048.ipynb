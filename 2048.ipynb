{
 "cells": [
  {
   "cell_type": "code",
   "execution_count": 47,
   "metadata": {
    "collapsed": true
   },
   "outputs": [],
   "source": [
    "import random\n",
    "import sys\n",
    "\n",
    "UP = 0\n",
    "RIGHT = 1\n",
    "DOWN = 2\n",
    "LEFT = 3\n",
    "\n",
    "class Play2048():\n",
    "    def __init__(self, size):\n",
    "        self._size = size\n",
    "        self._grid = [([0] * self._size) for _ in range(self._size)]\n",
    "        self._score = 0\n",
    "        self._available = set(i for i in range(self._size ** 2))\n",
    "        self._move_func = {UP: self._move_up,\n",
    "                           DOWN: self._move_down,\n",
    "                           LEFT: self._move_left,\n",
    "                           RIGHT: self._move_right}\n",
    "        self._fill()\n",
    "        self._fill()\n",
    "    \n",
    "    def __str__(self):\n",
    "        ret = 'Panel:\\n' \n",
    "        for row in self._grid:\n",
    "            ret += ' ' + str(row) + '\\n'\n",
    "        ret += ('\\nScore:\\n' + str(self._score) + '\\n')\n",
    "        ret += '\\nAvailable Grid:\\n'\n",
    "        if len(self._available) == 0:\n",
    "            ret += 'None'\n",
    "        else:\n",
    "            prev = -1\n",
    "            for num in self._available:\n",
    "                if (prev > -1 and prev // 4 != num // 4):\n",
    "                    ret += '\\n'\n",
    "                ret += ('(' + str(num // self._size) + ', ' + str(num % self._size) + ') ')  \n",
    "                prev = num\n",
    "        return ret\n",
    "    \n",
    "    def __repr__(self):\n",
    "        return self.__str__()\n",
    "        \n",
    "    def _fill(self):\n",
    "        idx = random.sample(self._available,1)[0]\n",
    "        num = 2 if random.random() < 0.9 else 4\n",
    "        self._grid[idx // self._size][idx % self._size] = num\n",
    "        self._available.remove(idx)\n",
    "        self._check_terminate()\n",
    "        \n",
    "    def _check_terminate(self):\n",
    "        if len(self._available) != 0:\n",
    "            return\n",
    "        for i in range(self._size):\n",
    "            for j in range(self._size):\n",
    "                if i < self._size-1 and j < self._size-1:\n",
    "                    if self._grid[i][j] == self._grid[i][j+1] or self._grid[i][j] == self._grid[i+1][j]:\n",
    "                        return\n",
    "                elif i == self._size-1 and j < self._size-1:\n",
    "                    if self._grid[i][j] == self._grid[i][j+1]:\n",
    "                        return\n",
    "                elif i < self._size-1 and j == self._size-1:\n",
    "                    if self._grid[i][j] == self._grid[i+1][j]:\n",
    "                        return\n",
    "        self._terminate()\n",
    "        \n",
    "    def _can_move(self, direction):\n",
    "        if direction == LEFT:\n",
    "            for i in range(self._size):\n",
    "                for j in range(self._size-1):\n",
    "                    if (self._grid[i][j] == 0 and self._grid[i][j+1] > 0) or \\\n",
    "                    (self._grid[i][j] != 0 and self._grid[i][j] == self._grid[i][j+1]):\n",
    "                        return True\n",
    "        elif direction == RIGHT:\n",
    "            for i in range(self._size):\n",
    "                for j in range(self._size-1):\n",
    "                    if (self._grid[i][j+1] == 0 and self._grid[i][j] > 0) or \\\n",
    "                    (self._grid[i][j] != 0 and self._grid[i][j] == self._grid[i][j+1]):\n",
    "                        return True\n",
    "        elif direction == UP:\n",
    "            for i in range(self._size):\n",
    "                for j in range(self._size-1):\n",
    "                    if (self._grid[j][i] == 0 and self._grid[j+1][i]) or \\\n",
    "                    (self._grid[j][i] != 0 and self._grid[j][i] == self._grid[j+1][i]):\n",
    "                        return True\n",
    "        elif direction == DOWN:\n",
    "            for i in range(self._size):\n",
    "                for j in range(self._size-1):\n",
    "                    if (self._grid[j+1][i] == 0 and self._grid[j][i]) or \\\n",
    "                    (self._grid[j][i] != 0 and self._grid[j+1][i] == self._grid[j][i]):\n",
    "                        return True\n",
    "        else:\n",
    "            raise Exception(\"Invalid move\")\n",
    "        return False\n",
    "                \n",
    "    def _merge(self, before_move):\n",
    "        if len(before_move) < 2:\n",
    "            return before_move.copy()\n",
    "        \n",
    "        after_move = []\n",
    "        i = 0     \n",
    "        while i < len(before_move):   \n",
    "            if i < len(before_move)-1 and before_move[i] == before_move[i+1]:\n",
    "                after_move.append(before_move[i] * 2)\n",
    "                self._score += (before_move[i] * 2)\n",
    "                i += 2\n",
    "            else:\n",
    "                after_move.append(before_move[i])\n",
    "                i += 1\n",
    "        \n",
    "        return after_move\n",
    "    \n",
    "    def _move_left(self):\n",
    "        for i in range(self._size):\n",
    "            _before_move = []\n",
    "            for j in range(self._size):\n",
    "                if self._grid[i][j] != 0:\n",
    "                    _before_move.append(self._grid[i][j])\n",
    "            _after_move = self._merge(_before_move)\n",
    "            for j in range(len(_after_move)):\n",
    "                if i * self._size + j in self._available:\n",
    "                    self._available.remove(i * self._size + j)\n",
    "                self._grid[i][j] = _after_move[j]\n",
    "            for j in range(len(_after_move), self._size):\n",
    "                if self._grid[i][j] != 0:\n",
    "                    self._grid[i][j] = 0\n",
    "                self._available.add(i * self._size + j)\n",
    "        self._fill()\n",
    "        \n",
    "    \n",
    "    def _move_right(self):\n",
    "        for i in range(self._size):\n",
    "            _before_move = []\n",
    "            for j in reversed(range(self._size)):\n",
    "                if self._grid[i][j] != 0:\n",
    "                    _before_move.append(self._grid[i][j])\n",
    "            _after_move = self._merge(_before_move)\n",
    "            for j in reversed(range(self._size - len(_after_move), self._size)):\n",
    "                if i * self._size + j in self._available:\n",
    "                    self._available.remove(i * self._size + j)\n",
    "                self._grid[i][j] = _after_move[self._size-j-1]\n",
    "            for j in reversed(self._size-len(_after_move)):\n",
    "                if self._grid[i][j] != 0:\n",
    "                    self._grid[i][j] = 0\n",
    "                self._available.add(i * self._size + j)\n",
    "        self._fill()\n",
    "    \n",
    "    def _move_up(self):\n",
    "        for i in range(self._size):\n",
    "            _before_move = []\n",
    "            for j in range(self._size):\n",
    "                if self._grid[j][i] != 0:\n",
    "                    _before_move.append(self._grid[j][i])\n",
    "            _after_move = self._merge(_before_move)\n",
    "            for j in range(len(_after_move)):\n",
    "                if j * self._size + i in self._available:\n",
    "                    self._available.remove(j * self._size + i)\n",
    "                self._grid[j][i] = _after_move[j]\n",
    "            for j in range(len(_after_move), self._size):\n",
    "                if self._grid[j][i] != 0:\n",
    "                    self._grid[j][i] = 0\n",
    "                self._available.add(j * self._size + i) \n",
    "        self._fill()\n",
    "    \n",
    "    def _move_down(self):\n",
    "        for i in range(self._size):\n",
    "            _before_move = []\n",
    "            for j in reversed(range(self._size)):\n",
    "                if self._grid[j][i] != 0:\n",
    "                    _before_move.append(self._grid[j][i])  \n",
    "            _after_move = self._merge(_before_move)\n",
    "            for j in reversed(range(self._size-len(_after_move), self._size)):\n",
    "                if j * self._size + i in self._available:\n",
    "                    self._available.remove(j * self._size + i)\n",
    "                self._grid[j][i] = _after_move[self._size-j-1]\n",
    "            \n",
    "            for j in reversed(range(self._size-len(_after_move))):\n",
    "                if self._grid[j][i] != 0:\n",
    "                    self._grid[j][i] = 0\n",
    "                self._available.add(j * self._size + i)\n",
    "        self._fill()\n",
    "        \n",
    "    def move(self, direction):\n",
    "        if self._can_move(direction):\n",
    "            self._move_func[direction]()\n",
    "    \n",
    "    def _terminate(self):\n",
    "        print('Game Over!\\nYour score is ' + str(self._score) + '\\n')\n",
    "        raise Exception()"
   ]
  },
  {
   "cell_type": "code",
   "execution_count": 48,
   "metadata": {},
   "outputs": [
    {
     "name": "stdout",
     "output_type": "stream",
     "text": [
      "Panel:\n",
      " [0, 0, 0, 0]\n",
      " [0, 0, 0, 0]\n",
      " [2, 0, 0, 0]\n",
      " [0, 0, 0, 2]\n",
      "\n",
      "Score:\n",
      "0\n",
      "\n",
      "Available Grid:\n",
      "(0, 0) (0, 1) (0, 2) (0, 3) \n",
      "(1, 0) (1, 1) (1, 2) (1, 3) \n",
      "(2, 1) (2, 2) (2, 3) \n",
      "(3, 0) (3, 1) (3, 2) \n"
     ]
    }
   ],
   "source": [
    "player = Play2048(4)\n",
    "print(player)"
   ]
  },
  {
   "cell_type": "code",
   "execution_count": 49,
   "metadata": {},
   "outputs": [
    {
     "name": "stdout",
     "output_type": "stream",
     "text": [
      "Panel:\n",
      " [0, 0, 0, 0]\n",
      " [0, 0, 0, 0]\n",
      " [2, 0, 0, 0]\n",
      " [2, 0, 0, 2]\n",
      "\n",
      "Score:\n",
      "0\n",
      "\n",
      "Available Grid:\n",
      "(0, 0) (0, 1) (0, 2) (0, 3) \n",
      "(1, 0) (1, 1) (1, 2) (1, 3) \n",
      "(2, 1) (2, 2) (2, 3) \n",
      "(3, 1) (3, 2) \n"
     ]
    }
   ],
   "source": [
    "player.move(DOWN)\n",
    "print(player)"
   ]
  },
  {
   "cell_type": "code",
   "execution_count": 51,
   "metadata": {},
   "outputs": [
    {
     "name": "stdout",
     "output_type": "stream",
     "text": [
      "Panel:\n",
      " [0, 0, 0, 0]\n",
      " [0, 0, 0, 0]\n",
      " [0, 0, 0, 0]\n",
      " [4, 2, 0, 2]\n",
      "\n",
      "Score:\n",
      "4\n",
      "\n",
      "Available Grid:\n",
      "(0, 0) (0, 1) (0, 2) (0, 3) \n",
      "(1, 0) (1, 1) (1, 2) (1, 3) \n",
      "(2, 0) (2, 1) (2, 2) (2, 3) \n",
      "(3, 2) \n"
     ]
    }
   ],
   "source": [
    "player = Play2048(4)\n",
    "while True:\n",
    "    try:\n",
    "        player.move(random.choice([0,1,2,3]))\n",
    "    except Exception as e:\n",
    "        print(play)\n",
    "        break\n"
   ]
  },
  {
   "cell_type": "code",
   "execution_count": 13,
   "metadata": {
    "collapsed": true
   },
   "outputs": [],
   "source": [
    "from _2048 import Play2048\n",
    "import random"
   ]
  },
  {
   "cell_type": "code",
   "execution_count": 14,
   "metadata": {},
   "outputs": [
    {
     "name": "stdout",
     "output_type": "stream",
     "text": [
      "Panel:\n",
      " [0, 0, 0, 0]\n",
      " [2, 0, 0, 4]\n",
      " [0, 0, 0, 0]\n",
      " [0, 0, 0, 0]\n",
      "\n",
      "Score:\n",
      "0\n",
      "\n",
      "Available Grid:\n",
      "(0, 0) (0, 1) (0, 2) (0, 3) \n",
      "(1, 1) (1, 2) \n",
      "(2, 0) (2, 1) (2, 2) (2, 3) \n",
      "(3, 0) (3, 1) (3, 2) (3, 3) \n"
     ]
    }
   ],
   "source": [
    "player = Play2048(4)\n",
    "print(player)"
   ]
  },
  {
   "cell_type": "code",
   "execution_count": 15,
   "metadata": {},
   "outputs": [
    {
     "name": "stdout",
     "output_type": "stream",
     "text": [
      "Panel:\n",
      " [0, 0, 0, 0]\n",
      " [0, 0, 2, 4]\n",
      " [0, 2, 0, 0]\n",
      " [0, 0, 0, 0]\n",
      "\n",
      "Score:\n",
      "0\n",
      "\n",
      "Available Grid:\n",
      "(0, 0) (0, 1) (0, 2) (0, 3) \n",
      "(1, 0) (1, 1) \n",
      "(2, 0) (2, 2) (2, 3) \n",
      "(3, 0) (3, 1) (3, 2) (3, 3) \n"
     ]
    }
   ],
   "source": [
    "player.move(1)\n",
    "print(player)"
   ]
  },
  {
   "cell_type": "code",
   "execution_count": 16,
   "metadata": {},
   "outputs": [
    {
     "name": "stdout",
     "output_type": "stream",
     "text": [
      "Game Over!\n",
      "Your score is 516\n",
      "\n",
      " Panel:\n",
      " [4, 2, 4, 8]\n",
      " [8, 4, 64, 2]\n",
      " [4, 32, 2, 8]\n",
      " [2, 4, 16, 2]\n",
      "\n",
      "Score:\n",
      "516\n",
      "\n",
      "Available Grid:\n",
      "None\n"
     ]
    }
   ],
   "source": [
    "while True:\n",
    "    try:\n",
    "        player.move(random.choice([0,1,2,3]))\n",
    "    except Exception as e:\n",
    "        print(e,player)\n",
    "        break"
   ]
  },
  {
   "cell_type": "code",
   "execution_count": null,
   "metadata": {
    "collapsed": true
   },
   "outputs": [],
   "source": []
  },
  {
   "cell_type": "code",
   "execution_count": null,
   "metadata": {
    "collapsed": true
   },
   "outputs": [],
   "source": []
  }
 ],
 "metadata": {
  "kernelspec": {
   "display_name": "Python 3",
   "language": "python",
   "name": "python3"
  },
  "language_info": {
   "codemirror_mode": {
    "name": "ipython",
    "version": 3
   },
   "file_extension": ".py",
   "mimetype": "text/x-python",
   "name": "python",
   "nbconvert_exporter": "python",
   "pygments_lexer": "ipython3",
   "version": "3.5.3"
  }
 },
 "nbformat": 4,
 "nbformat_minor": 2
}
